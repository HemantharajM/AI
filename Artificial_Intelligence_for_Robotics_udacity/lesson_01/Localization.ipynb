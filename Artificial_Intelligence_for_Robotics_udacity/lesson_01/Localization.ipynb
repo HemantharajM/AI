{
 "cells": [
  {
   "cell_type": "markdown",
   "metadata": {},
   "source": [
    "### LOCALIZATION"
   ]
  },
  {
   "cell_type": "markdown",
   "metadata": {},
   "source": [
    "#### Initialize probability"
   ]
  },
  {
   "cell_type": "code",
   "execution_count": 3,
   "metadata": {},
   "outputs": [
    {
     "name": "stdout",
     "output_type": "stream",
     "text": [
      "[0.2, 0.2, 0.2, 0.2, 0.2]\n"
     ]
    }
   ],
   "source": [
    "##Probabiliy of the robot being in that location\n",
    "p = []\n",
    "\n",
    "##Number of grid cells or Map\n",
    "n = 5\n",
    "\n",
    "##calculate initial probability - uniform probability for maximum confusion\n",
    "for i in range(n):\n",
    "    p.append(1.0/n)\n",
    "\n",
    "print(p)"
   ]
  },
  {
   "cell_type": "markdown",
   "metadata": {},
   "source": [
    "#### world with properties"
   ]
  },
  {
   "cell_type": "code",
   "execution_count": 4,
   "metadata": {},
   "outputs": [],
   "source": [
    "world = ['green','red','red','green','green']\n",
    "\n",
    "#Measurements\n",
    "Z = 'red'\n",
    "\n",
    "#Probability of Hit \n",
    "pHit = 0.6\n",
    "#Probability of Miss\n",
    "pMiss = 0.2 "
   ]
  },
  {
   "cell_type": "code",
   "execution_count": 5,
   "metadata": {},
   "outputs": [],
   "source": [
    "def sense(p,Z):\n",
    "    q = []\n",
    "    \n",
    "    #if world match with measurement(Z) then it considered as hit\n",
    "    for i in range(len(p)):\n",
    "        hit = (Z == world[i])\n",
    "        \n",
    "        q.append(p[i] * ((hit) * pHit + (1 - hit) * pMiss))\n",
    "    \n",
    "    s = sum(q)\n",
    "    \n",
    "    #Normalize the probability distribution\n",
    "    for i in range(len(q)):\n",
    "        q[i] = q[i] / s\n",
    "        \n",
    "    return q "
   ]
  },
  {
   "cell_type": "code",
   "execution_count": 6,
   "metadata": {},
   "outputs": [
    {
     "data": {
      "text/plain": [
       "[0.1111111111111111,\n",
       " 0.3333333333333332,\n",
       " 0.3333333333333332,\n",
       " 0.1111111111111111,\n",
       " 0.1111111111111111]"
      ]
     },
     "execution_count": 6,
     "metadata": {},
     "output_type": "execute_result"
    }
   ],
   "source": [
    "sense(p,Z)"
   ]
  },
  {
   "cell_type": "markdown",
   "metadata": {},
   "source": [
    "#### Multiple measurements"
   ]
  },
  {
   "cell_type": "code",
   "execution_count": 7,
   "metadata": {},
   "outputs": [
    {
     "name": "stdout",
     "output_type": "stream",
     "text": [
      "[0.20000000000000004, 0.19999999999999996, 0.19999999999999996, 0.20000000000000004, 0.20000000000000004]\n"
     ]
    }
   ],
   "source": [
    "measurements = ['red','green']\n",
    "\n",
    "for k in range(len(measurements)):\n",
    "    p = sense(p,measurements[k])\n",
    "    \n",
    "print(p)"
   ]
  },
  {
   "cell_type": "markdown",
   "metadata": {},
   "source": [
    "#### Robot Motion"
   ]
  },
  {
   "cell_type": "code",
   "execution_count": 10,
   "metadata": {},
   "outputs": [],
   "source": [
    "p = [0,1,0,0,0]\n",
    "def move(p,U):\n",
    "    \"\"\"\n",
    "    U - Numbers of moves on the right(+ve) or left(-ve)\n",
    "    \"\"\"\n",
    "    l = len(p)\n",
    "    q = [0 for i in range(l)]\n",
    "    \n",
    "    for i in range(l):\n",
    "        q[i] = p[(i - U) % l]\n",
    "    \n",
    "    return q"
   ]
  },
  {
   "cell_type": "code",
   "execution_count": 14,
   "metadata": {},
   "outputs": [
    {
     "data": {
      "text/plain": [
       "[0, 0, 1, 0, 0]"
      ]
     },
     "execution_count": 14,
     "metadata": {},
     "output_type": "execute_result"
    }
   ],
   "source": [
    "move(p,1)"
   ]
  },
  {
   "cell_type": "code",
   "execution_count": 21,
   "metadata": {},
   "outputs": [],
   "source": [
    "p = [0.2,0.2,0.2,0.2,0.2]\n",
    "\n",
    "q = [0 for i in range(5)]\n",
    "for i in range(5):\n",
    "    q[(i + 1) % 5] += 0.02\n",
    "    q[(i + 2) % 5] += 0.16\n",
    "    q[(i + 1) % 5] += 0.02"
   ]
  },
  {
   "cell_type": "code",
   "execution_count": 22,
   "metadata": {},
   "outputs": [
    {
     "data": {
      "text/plain": [
       "[0.19999999999999998,\n",
       " 0.2,\n",
       " 0.19999999999999998,\n",
       " 0.19999999999999998,\n",
       " 0.19999999999999998]"
      ]
     },
     "execution_count": 22,
     "metadata": {},
     "output_type": "execute_result"
    }
   ],
   "source": [
    "q"
   ]
  },
  {
   "cell_type": "code",
   "execution_count": null,
   "metadata": {},
   "outputs": [],
   "source": []
  }
 ],
 "metadata": {
  "kernelspec": {
   "display_name": "Python 3",
   "language": "python",
   "name": "python3"
  },
  "language_info": {
   "codemirror_mode": {
    "name": "ipython",
    "version": 3
   },
   "file_extension": ".py",
   "mimetype": "text/x-python",
   "name": "python",
   "nbconvert_exporter": "python",
   "pygments_lexer": "ipython3",
   "version": "3.6.7"
  }
 },
 "nbformat": 4,
 "nbformat_minor": 2
}
